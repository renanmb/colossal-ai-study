{
 "cells": [
  {
   "cell_type": "markdown",
   "metadata": {
    "id": "x_P2O8wv8EBn",
    "tags": []
   },
   "source": [
    "## DLI Tutorial on ColossalAI Framework\n",
    "\n",
    "This tutorial serves as a gentle introduction into using ColossalAI for large-scale training and achieving multiple types of parallelism. There are in total 8 sections detailing the steps to realize:\n",
    "\n",
    "1. [Environment setup](01-Environment-Setup.ipynb)\n",
    "2. [Large-scale optimizer](02-Large-Scale-Optimizer.ipynb)\n",
    "3. [Hybrid parallelism](03-Hybrid-Parallelism.ipynb)\n",
    "4. [Sequence parallelism](04-Sequence-Parallelism.ipynb)\n",
    "5. [Auto parallelism](05-Auto-Parallelism.ipynb)\n",
    "6. [OPT model inference](06-OPT-Model-Inference.ipynb)\n",
    "7. [Fastfold inference](07-Fastfold-Inference.ipynb)\n",
    "8. [Stable diffusion inference](08-Stable-Diffusion-Inference.ipynb)\n",
    "\n",
    "Run the codes in this environment and you'll be amazed by the power and easy use of our ColossalAI. Accompany this notebook with the [video tutorial](https://drive.google.com/drive/folders/1FUu74wi6FTSfpNows-prvq3MFz53NlRf?usp=sharing) for more hands-on demonstrations. \n",
    "\n",
    "Also, our `README.md` in this folder also contains expected result screenshots which you may use to verify your outcomes."
   ]
  },
  {
   "cell_type": "code",
   "execution_count": 1,
   "metadata": {},
   "outputs": [
    {
     "name": "stdout",
     "output_type": "stream",
     "text": [
      "Mon Mar 20 19:13:00 2023       \n",
      "+-----------------------------------------------------------------------------+\n",
      "| NVIDIA-SMI 460.32.03    Driver Version: 460.32.03    CUDA Version: 11.3     |\n",
      "|-------------------------------+----------------------+----------------------+\n",
      "| GPU  Name        Persistence-M| Bus-Id        Disp.A | Volatile Uncorr. ECC |\n",
      "| Fan  Temp  Perf  Pwr:Usage/Cap|         Memory-Usage | GPU-Util  Compute M. |\n",
      "|                               |                      |               MIG M. |\n",
      "|===============================+======================+======================|\n",
      "|   0  Graphics Device     On   | 00000001:00:00.0 Off |                    0 |\n",
      "| N/A   34C    P0    51W / 300W |      0MiB / 81251MiB |      0%      Default |\n",
      "|                               |                      |             Disabled |\n",
      "+-------------------------------+----------------------+----------------------+\n",
      "|   1  Graphics Device     On   | 00000002:00:00.0 Off |                    0 |\n",
      "| N/A   34C    P0    51W / 300W |      0MiB / 81251MiB |      0%      Default |\n",
      "|                               |                      |             Disabled |\n",
      "+-------------------------------+----------------------+----------------------+\n",
      "                                                                               \n",
      "+-----------------------------------------------------------------------------+\n",
      "| Processes:                                                                  |\n",
      "|  GPU   GI   CI        PID   Type   Process name                  GPU Memory |\n",
      "|        ID   ID                                                   Usage      |\n",
      "|=============================================================================|\n",
      "|  No running processes found                                                 |\n",
      "+-----------------------------------------------------------------------------+\n"
     ]
    }
   ],
   "source": [
    "!nvidia-smi"
   ]
  },
  {
   "cell_type": "code",
   "execution_count": null,
   "metadata": {},
   "outputs": [],
   "source": []
  }
 ],
 "metadata": {
  "accelerator": "GPU",
  "colab": {
   "provenance": []
  },
  "gpuClass": "standard",
  "kernelspec": {
   "display_name": "Python 3 (ipykernel)",
   "language": "python",
   "name": "python3"
  },
  "language_info": {
   "codemirror_mode": {
    "name": "ipython",
    "version": 3
   },
   "file_extension": ".py",
   "mimetype": "text/x-python",
   "name": "python",
   "nbconvert_exporter": "python",
   "pygments_lexer": "ipython3",
   "version": "3.8.16"
  },
  "vscode": {
   "interpreter": {
    "hash": "933351abc630374ba7d69d29305d8827306c5eb75384e02fe79e055db4d99722"
   }
  }
 },
 "nbformat": 4,
 "nbformat_minor": 4
}
