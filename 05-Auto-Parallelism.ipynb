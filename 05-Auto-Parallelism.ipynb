{
 "cells": [
  {
   "cell_type": "markdown",
   "metadata": {
    "id": "kcrFCW05JiUF"
   },
   "source": [
    "# Auto Parallelism\n",
    "\n",
    "Configuring parallism is made easier via auto-parallelism! Try out this experimental feature and watch out for its active development updates!"
   ]
  },
  {
   "cell_type": "code",
   "execution_count": null,
   "metadata": {
    "colab": {
     "base_uri": "https://localhost:8080/"
    },
    "id": "Jom6BN1tJljW",
    "outputId": "9f88c98e-7ba6-44b2-fb36-523c931ab493"
   },
   "outputs": [],
   "source": [
    "%cd /workshop/tutorial/auto_parallel"
   ]
  },
  {
   "cell_type": "code",
   "execution_count": null,
   "metadata": {
    "colab": {
     "base_uri": "https://localhost:8080/"
    },
    "id": "8C53UQ-NKZEt",
    "outputId": "ef125d88-e881-458e-a2a2-d4cdb2fc3537"
   },
   "outputs": [],
   "source": [
    "!ls"
   ]
  },
  {
   "cell_type": "markdown",
   "metadata": {},
   "source": [
    "---"
   ]
  },
  {
   "cell_type": "markdown",
   "metadata": {},
   "source": [
    "## auto_parallel_with_resnet.py"
   ]
  },
  {
   "cell_type": "markdown",
   "metadata": {},
   "source": [
    "Open [auto_parallel_with_resnet.py](auto_parallel/auto_parallel_with_resnet.py) or click on `...` to view it."
   ]
  },
  {
   "cell_type": "markdown",
   "metadata": {
    "jupyter": {
     "source_hidden": true
    },
    "tags": []
   },
   "source": [
    "```python\n",
    "import torch\n",
    "from torchvision.models import resnet50\n",
    "from tqdm import tqdm\n",
    "\n",
    "import colossalai\n",
    "from colossalai.auto_parallel.tensor_shard.initialize import initialize_model\n",
    "from colossalai.core import global_context as gpc\n",
    "from colossalai.device.device_mesh import DeviceMesh\n",
    "from colossalai.logging import get_dist_logger\n",
    "from colossalai.nn.lr_scheduler import CosineAnnealingLR\n",
    "\n",
    "\n",
    "def synthesize_data():\n",
    "    img = torch.rand(gpc.config.BATCH_SIZE, 3, 32, 32)\n",
    "    label = torch.randint(low=0, high=10, size=(gpc.config.BATCH_SIZE,))\n",
    "    return img, label\n",
    "\n",
    "\n",
    "def main():\n",
    "    colossalai.launch_from_torch(config='./config.py')\n",
    "\n",
    "    logger = get_dist_logger()\n",
    "\n",
    "    # trace the model with meta data\n",
    "    model = resnet50(num_classes=10).cuda()\n",
    "\n",
    "    input_sample = {'x': torch.rand([gpc.config.BATCH_SIZE * torch.distributed.get_world_size(), 3, 32, 32]).to('meta')}\n",
    "    device_mesh = DeviceMesh(physical_mesh_id=torch.tensor([0, 1]), mesh_shape=[1, 2], init_process_group=True)\n",
    "    model, solution = initialize_model(model, input_sample, device_mesh=device_mesh, return_solution=True)\n",
    "\n",
    "    if gpc.get_global_rank() == 0:\n",
    "        for node_strategy in solution:\n",
    "            print(node_strategy)\n",
    "    # build criterion\n",
    "    criterion = torch.nn.CrossEntropyLoss()\n",
    "\n",
    "    # optimizer\n",
    "    optimizer = torch.optim.SGD(model.parameters(), lr=0.1, momentum=0.9, weight_decay=5e-4)\n",
    "\n",
    "    # lr_scheduler\n",
    "    lr_scheduler = CosineAnnealingLR(optimizer, total_steps=gpc.config.NUM_EPOCHS)\n",
    "\n",
    "    for epoch in range(gpc.config.NUM_EPOCHS):\n",
    "        model.train()\n",
    "\n",
    "        # if we use synthetic data\n",
    "        # we assume it only has 10 steps per epoch\n",
    "        num_steps = range(10)\n",
    "        progress = tqdm(num_steps)\n",
    "\n",
    "        for _ in progress:\n",
    "            # generate fake data\n",
    "            img, label = synthesize_data()\n",
    "\n",
    "            img = img.cuda()\n",
    "            label = label.cuda()\n",
    "            optimizer.zero_grad()\n",
    "            output = model(img)\n",
    "            train_loss = criterion(output, label)\n",
    "            train_loss.backward(train_loss)\n",
    "            torch.cuda.synchronize()\n",
    "            optimizer.step()\n",
    "        lr_scheduler.step()\n",
    "\n",
    "        # run evaluation\n",
    "        model.eval()\n",
    "        correct = 0\n",
    "        total = 0\n",
    "\n",
    "        # if we use synthetic data\n",
    "        # we assume it only has 10 steps for evaluation\n",
    "        num_steps = range(10)\n",
    "        progress = tqdm(num_steps)\n",
    "\n",
    "        for _ in progress:\n",
    "            # generate fake data\n",
    "            img, label = synthesize_data()\n",
    "\n",
    "            img = img.cuda()\n",
    "            label = label.cuda()\n",
    "\n",
    "            with torch.no_grad():\n",
    "                output = model(img)\n",
    "                test_loss = criterion(output, label)\n",
    "            pred = torch.argmax(output, dim=-1)\n",
    "            correct += torch.sum(pred == label)\n",
    "            total += img.size(0)\n",
    "\n",
    "        logger.info(\n",
    "            f\"Epoch {epoch} - train loss: {train_loss:.5}, test loss: {test_loss:.5}, acc: {correct / total:.5}, lr: {lr_scheduler.get_last_lr()[0]:.5g}\",\n",
    "            ranks=[0])\n",
    "\n",
    "\n",
    "if __name__ == '__main__':\n",
    "    main()\n",
    "\n",
    "```"
   ]
  },
  {
   "cell_type": "markdown",
   "metadata": {},
   "source": [
    "---"
   ]
  },
  {
   "cell_type": "markdown",
   "metadata": {},
   "source": [
    "## Execute the Program"
   ]
  },
  {
   "cell_type": "code",
   "execution_count": null,
   "metadata": {
    "id": "JyAp2NCzLMdX",
    "scrolled": true,
    "tags": []
   },
   "outputs": [],
   "source": [
    "# Execeute the program. It takes a short while to search for parallelization strategy.\n",
    "!colossalai run --nproc_per_node 2 auto_parallel_with_resnet.py -s"
   ]
  }
 ],
 "metadata": {
  "accelerator": "GPU",
  "colab": {
   "provenance": []
  },
  "gpuClass": "standard",
  "kernelspec": {
   "display_name": "Python 3 (ipykernel)",
   "language": "python",
   "name": "python3"
  },
  "language_info": {
   "codemirror_mode": {
    "name": "ipython",
    "version": 3
   },
   "file_extension": ".py",
   "mimetype": "text/x-python",
   "name": "python",
   "nbconvert_exporter": "python",
   "pygments_lexer": "ipython3",
   "version": "3.8.16"
  },
  "vscode": {
   "interpreter": {
    "hash": "933351abc630374ba7d69d29305d8827306c5eb75384e02fe79e055db4d99722"
   }
  }
 },
 "nbformat": 4,
 "nbformat_minor": 4
}
